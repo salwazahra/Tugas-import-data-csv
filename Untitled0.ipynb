{
  "nbformat": 4,
  "nbformat_minor": 0,
  "metadata": {
    "colab": {
      "provenance": [],
      "authorship_tag": "ABX9TyMy1FmOtX+Zu0Y6uVi3RaFc",
      "include_colab_link": true
    },
    "kernelspec": {
      "name": "python3",
      "display_name": "Python 3"
    },
    "language_info": {
      "name": "python"
    }
  },
  "cells": [
    {
      "cell_type": "markdown",
      "metadata": {
        "id": "view-in-github",
        "colab_type": "text"
      },
      "source": [
        "<a href=\"https://colab.research.google.com/github/salwazahra/Tugas-import-data-csv/blob/main/Untitled0.ipynb\" target=\"_parent\"><img src=\"https://colab.research.google.com/assets/colab-badge.svg\" alt=\"Open In Colab\"/></a>"
      ]
    },
    {
      "cell_type": "code",
      "source": [
        "import pandas as pd "
      ],
      "metadata": {
        "id": "Loffy3yzgEr7"
      },
      "execution_count": null,
      "outputs": []
    },
    {
      "cell_type": "code",
      "source": [
        "df = pd.read_csv('sample_data/Data Kelas Sains Data (3).csv')\n",
        "print(df)"
      ],
      "metadata": {
        "colab": {
          "base_uri": "https://localhost:8080/"
        },
        "id": "9RqQ3NUUgI8t",
        "outputId": "32c4af33-3adb-4046-bbf3-adce7a321f54"
      },
      "execution_count": 5,
      "outputs": [
        {
          "output_type": "stream",
          "name": "stdout",
          "text": [
            "          NPM                                           NAMA\n",
            "0   184220001                            Mhd. Haikal Baihaqi\n",
            "1   184220002                                Gilang Al-Raffi\n",
            "2   184220003                             Siti Salwa Azzahra\n",
            "3   184220004              Maria Bernadina B. Cintany Lustin\n",
            "4   184220005                        Muhamad Rafif Al-Hafizh\n",
            "5   184220007                             Paulina Bota Kolin\n",
            "6   184220008                            L.M.Aznur Syahfajar\n",
            "7   184220010                             Mylo Aleffa Rahman\n",
            "8   184220011                             Sabrina Nur Anisah\n",
            "9   184220012                      Muhammad Vito Aristawidya\n",
            "10  184220013                                Firna Ulfiani R\n",
            "11  184220015                    Muhammad Reefy Hidayatullah\n",
            "12  184220019                        Aulia Rahmadiva Wardana\n",
            "13  184220021                             Maysa Zaidee Aulia\n",
            "14  184220022                           NAUFAL PANJI PURNOMO\n",
            "15  184220023                Salsa Paringga Pangestu Ningsih\n",
            "16  184220024                             Nita Sawalia Fitri\n",
            "17  184220025  Christopher Damar Nugroho Amizeno Ranga Sogen\n",
            "18  184220026                           Fahriza Aulia Rahman\n",
            "19  184220027                                  Ridla Ashrina\n",
            "20  184220028                   Gabriella Mustika Anugraheni\n",
            "21  184220029                          Thiodas Heni Pakpahan\n",
            "22  184220030                               Aldi Daim Fauzan\n",
            "23  184220031                           NASYWA NUR HANDAYANI\n",
            "24  184220032                                          Yusuf\n",
            "25  184220033                      Raditio Ananto Hargiyanto\n"
          ]
        }
      ]
    },
    {
      "cell_type": "code",
      "source": [],
      "metadata": {
        "colab": {
          "base_uri": "https://localhost:8080/",
          "height": 165
        },
        "id": "OgQ4zaJ4gqwC",
        "outputId": "53966b0c-74c7-4082-974f-f05419c88fc0"
      },
      "execution_count": 4,
      "outputs": [
        {
          "output_type": "error",
          "ename": "NameError",
          "evalue": "ignored",
          "traceback": [
            "\u001b[0;31m---------------------------------------------------------------------------\u001b[0m",
            "\u001b[0;31mNameError\u001b[0m                                 Traceback (most recent call last)",
            "\u001b[0;32m<ipython-input-4-00cf07b74dcd>\u001b[0m in \u001b[0;36m<cell line: 1>\u001b[0;34m()\u001b[0m\n\u001b[0;32m----> 1\u001b[0;31m \u001b[0mdf\u001b[0m\u001b[0;34m\u001b[0m\u001b[0;34m\u001b[0m\u001b[0m\n\u001b[0m",
            "\u001b[0;31mNameError\u001b[0m: name 'df' is not defined"
          ]
        }
      ]
    }
  ]
}